{
  "cells": [
    {
      "cell_type": "markdown",
      "metadata": {
        "id": "9wkicuxZdrdq"
      },
      "source": [
        "Project I | Deep Learning: Image Classification with CNN\n",
        "Task Description\n",
        "Students will build a Convolutional Neural Network (CNN) model to classify images from a given dataset into predefined categories/classes.\n",
        "\n",
        "Datasets\n",
        "The dataset for this task is the CIFAR-10 dataset, which consists of 60,000 32x32 color images in 10 classes, with 6,000 images per class. "
      ]
    },
    {
      "cell_type": "markdown",
      "metadata": {},
      "source": [
        "Data Preprocessing\n",
        "\n",
        "Data loading and preprocessing (e.g., normalization, resizing, augmentation).\n"
      ]
    },
    {
      "cell_type": "markdown",
      "metadata": {},
      "source": [
        "Create visualizations of some images, and labels."
      ]
    },
    {
      "cell_type": "code",
      "execution_count": null,
      "metadata": {},
      "outputs": [],
      "source": [
        "import numpy as np\n",
        "import matplotlib.pyplot as plt\n",
        "from tensorflow.keras.datasets import cifar10\n",
        "from tensorflow.keras.utils import to_categorical\n",
        "\n",
        "# Load CIFAR-10 dataset\n",
        "(x_train, y_train), (x_test, y_test) = cifar10.load_data()"
      ]
    },
    {
      "cell_type": "code",
      "execution_count": null,
      "metadata": {
        "colab": {
          "base_uri": "https://localhost:8080/"
        },
        "id": "Mrb20KGMtTFq",
        "outputId": "24d8a6df-0c23-4992-db33-af04ce53abe3"
      },
      "outputs": [
        {
          "name": "stdout",
          "output_type": "stream",
          "text": [
            "Downloading data from https://www.cs.toronto.edu/~kriz/cifar-10-python.tar.gz\n",
            "\u001b[1m170498071/170498071\u001b[0m \u001b[32m━━━━━━━━━━━━━━━━━━━━\u001b[0m\u001b[37m\u001b[0m \u001b[1m4s\u001b[0m 0us/step\n",
            "(50000, 32, 32, 3)\n",
            "4\n",
            "uint8\n",
            "(10000, 32, 32, 3)\n"
          ]
        }
      ],
      "source": [
        "\n",
        "print(x_train.shape)\n",
        "print(x_train.ndim)\n",
        "print(x_train.dtype)\n",
        "print(x_test.shape)"
      ]
    },
    {
      "cell_type": "code",
      "execution_count": 4,
      "metadata": {
        "colab": {
          "base_uri": "https://localhost:8080/"
        },
        "id": "lhzaUj-sT7NA",
        "outputId": "4b93d865-b19e-47ea-bfa0-845dc446c84b"
      },
      "outputs": [
        {
          "name": "stdout",
          "output_type": "stream",
          "text": [
            "(10000, 1)\n",
            "2\n",
            "uint8\n",
            "(50000, 1)\n",
            "2\n",
            "uint8\n"
          ]
        }
      ],
      "source": [
        "print (y_test.shape)\n",
        "print (y_test.ndim)\n",
        "print (y_test.dtype)\n",
        "print (y_train.shape)\n",
        "print (y_train.ndim)\n",
        "print (y_train.dtype)"
      ]
    },
    {
      "cell_type": "code",
      "execution_count": 5,
      "metadata": {
        "id": "CPc9QYMOUOC0"
      },
      "outputs": [],
      "source": [
        "y_train = y_train.flatten()\n",
        "y_test = y_test.flatten()\n"
      ]
    },
    {
      "cell_type": "code",
      "execution_count": 7,
      "metadata": {
        "id": "I9S9bM-62S9q"
      },
      "outputs": [],
      "source": [
        "y_train = to_categorical(y_train, 10)\n",
        "y_test = to_categorical(y_test, 10)"
      ]
    },
    {
      "cell_type": "code",
      "execution_count": null,
      "metadata": {
        "id": "-p5Wx7sT05gi"
      },
      "outputs": [],
      "source": [
        "print(y_train[0])\n",
        "print(y_test[0])"
      ]
    },
    {
      "cell_type": "code",
      "execution_count": null,
      "metadata": {
        "id": "B6pMM5lwZ0uN"
      },
      "outputs": [],
      "source": [
        "print(x_train[0])\n",
        "print(x_test[0])\n",
        "print(x_test[0])"
      ]
    },
    {
      "cell_type": "code",
      "execution_count": null,
      "metadata": {
        "id": "iSN6riPISBMG"
      },
      "outputs": [],
      "source": [
        "import matplotlib.pyplot as plt\n",
        "\n",
        "# CIFAR-10 class names\n",
        "class_names = ['airplane', 'automobile', 'bird', 'cat', 'deer',\n",
        "               'dog', 'frog', 'horse', 'ship', 'truck']\n",
        "\n",
        "y_labels = np.argmax(y_train, axis=1)\n",
        "\n",
        "# Plot 10x10 grid\n",
        "fig, axes = plt.subplots(10, 10, figsize=(12, 12))\n",
        "fig.subplots_adjust(hspace=0.5, wspace=0.5)\n",
        "\n",
        "# For each class (0 to 9)\n",
        "for class_id in range(10):\n",
        "    # Get all indices of that class\n",
        "    idxs = np.where(y_labels == class_id)[0]\n",
        "    # Choose 10 random samples from that class\n",
        "    selected_idxs = np.random.choice(idxs, 10, replace=False)\n",
        "\n",
        "    for i in range(10):\n",
        "        ax = axes[class_id, i]\n",
        "        ax.imshow(x_train[selected_idxs[i]])\n",
        "        ax.axis('off')\n",
        "        if i == 0:\n",
        "            ax.set_title(class_names[class_id], fontsize=10)\n",
        "\n",
        "plt.tight_layout()\n",
        "plt.subplots_adjust(top=0.92)\n",
        "plt.show()"
      ]
    },
    {
      "cell_type": "code",
      "execution_count": null,
      "metadata": {
        "colab": {
          "base_uri": "https://localhost:8080/",
          "height": 306
        },
        "collapsed": true,
        "id": "WBxnV3Mdagxi",
        "outputId": "72220dd2-ac10-470a-d154-b90ea4cc0d0d"
      },
      "outputs": [
        {
          "data": {
            "text/html": [
              "<pre style=\"white-space:pre;overflow-x:auto;line-height:normal;font-family:Menlo,'DejaVu Sans Mono',consolas,'Courier New',monospace\"><span style=\"font-weight: bold\">Model: \"sequential_4\"</span>\n",
              "</pre>\n"
            ],
            "text/plain": [
              "\u001b[1mModel: \"sequential_4\"\u001b[0m\n"
            ]
          },
          "metadata": {},
          "output_type": "display_data"
        },
        {
          "data": {
            "text/html": [
              "<pre style=\"white-space:pre;overflow-x:auto;line-height:normal;font-family:Menlo,'DejaVu Sans Mono',consolas,'Courier New',monospace\">┏━━━━━━━━━━━━━━━━━━━━━━━━━━━━━━━━━┳━━━━━━━━━━━━━━━━━━━━━━━━┳━━━━━━━━━━━━━━━┓\n",
              "┃<span style=\"font-weight: bold\"> Layer (type)                    </span>┃<span style=\"font-weight: bold\"> Output Shape           </span>┃<span style=\"font-weight: bold\">       Param # </span>┃\n",
              "┡━━━━━━━━━━━━━━━━━━━━━━━━━━━━━━━━━╇━━━━━━━━━━━━━━━━━━━━━━━━╇━━━━━━━━━━━━━━━┩\n",
              "│ conv2d_1 (<span style=\"color: #0087ff; text-decoration-color: #0087ff\">Conv2D</span>)               │ (<span style=\"color: #00d7ff; text-decoration-color: #00d7ff\">None</span>, <span style=\"color: #00af00; text-decoration-color: #00af00\">30</span>, <span style=\"color: #00af00; text-decoration-color: #00af00\">30</span>, <span style=\"color: #00af00; text-decoration-color: #00af00\">32</span>)     │           <span style=\"color: #00af00; text-decoration-color: #00af00\">896</span> │\n",
              "├─────────────────────────────────┼────────────────────────┼───────────────┤\n",
              "│ max_pooling2d_1 (<span style=\"color: #0087ff; text-decoration-color: #0087ff\">MaxPooling2D</span>)  │ (<span style=\"color: #00d7ff; text-decoration-color: #00d7ff\">None</span>, <span style=\"color: #00af00; text-decoration-color: #00af00\">15</span>, <span style=\"color: #00af00; text-decoration-color: #00af00\">15</span>, <span style=\"color: #00af00; text-decoration-color: #00af00\">32</span>)     │             <span style=\"color: #00af00; text-decoration-color: #00af00\">0</span> │\n",
              "├─────────────────────────────────┼────────────────────────┼───────────────┤\n",
              "│ flatten_1 (<span style=\"color: #0087ff; text-decoration-color: #0087ff\">Flatten</span>)             │ (<span style=\"color: #00d7ff; text-decoration-color: #00d7ff\">None</span>, <span style=\"color: #00af00; text-decoration-color: #00af00\">7200</span>)           │             <span style=\"color: #00af00; text-decoration-color: #00af00\">0</span> │\n",
              "├─────────────────────────────────┼────────────────────────┼───────────────┤\n",
              "│ dense_5 (<span style=\"color: #0087ff; text-decoration-color: #0087ff\">Dense</span>)                 │ (<span style=\"color: #00d7ff; text-decoration-color: #00d7ff\">None</span>, <span style=\"color: #00af00; text-decoration-color: #00af00\">100</span>)            │       <span style=\"color: #00af00; text-decoration-color: #00af00\">720,100</span> │\n",
              "├─────────────────────────────────┼────────────────────────┼───────────────┤\n",
              "│ dense_6 (<span style=\"color: #0087ff; text-decoration-color: #0087ff\">Dense</span>)                 │ (<span style=\"color: #00d7ff; text-decoration-color: #00d7ff\">None</span>, <span style=\"color: #00af00; text-decoration-color: #00af00\">10</span>)             │         <span style=\"color: #00af00; text-decoration-color: #00af00\">1,010</span> │\n",
              "└─────────────────────────────────┴────────────────────────┴───────────────┘\n",
              "</pre>\n"
            ],
            "text/plain": [
              "┏━━━━━━━━━━━━━━━━━━━━━━━━━━━━━━━━━┳━━━━━━━━━━━━━━━━━━━━━━━━┳━━━━━━━━━━━━━━━┓\n",
              "┃\u001b[1m \u001b[0m\u001b[1mLayer (type)                   \u001b[0m\u001b[1m \u001b[0m┃\u001b[1m \u001b[0m\u001b[1mOutput Shape          \u001b[0m\u001b[1m \u001b[0m┃\u001b[1m \u001b[0m\u001b[1m      Param #\u001b[0m\u001b[1m \u001b[0m┃\n",
              "┡━━━━━━━━━━━━━━━━━━━━━━━━━━━━━━━━━╇━━━━━━━━━━━━━━━━━━━━━━━━╇━━━━━━━━━━━━━━━┩\n",
              "│ conv2d_1 (\u001b[38;5;33mConv2D\u001b[0m)               │ (\u001b[38;5;45mNone\u001b[0m, \u001b[38;5;34m30\u001b[0m, \u001b[38;5;34m30\u001b[0m, \u001b[38;5;34m32\u001b[0m)     │           \u001b[38;5;34m896\u001b[0m │\n",
              "├─────────────────────────────────┼────────────────────────┼───────────────┤\n",
              "│ max_pooling2d_1 (\u001b[38;5;33mMaxPooling2D\u001b[0m)  │ (\u001b[38;5;45mNone\u001b[0m, \u001b[38;5;34m15\u001b[0m, \u001b[38;5;34m15\u001b[0m, \u001b[38;5;34m32\u001b[0m)     │             \u001b[38;5;34m0\u001b[0m │\n",
              "├─────────────────────────────────┼────────────────────────┼───────────────┤\n",
              "│ flatten_1 (\u001b[38;5;33mFlatten\u001b[0m)             │ (\u001b[38;5;45mNone\u001b[0m, \u001b[38;5;34m7200\u001b[0m)           │             \u001b[38;5;34m0\u001b[0m │\n",
              "├─────────────────────────────────┼────────────────────────┼───────────────┤\n",
              "│ dense_5 (\u001b[38;5;33mDense\u001b[0m)                 │ (\u001b[38;5;45mNone\u001b[0m, \u001b[38;5;34m100\u001b[0m)            │       \u001b[38;5;34m720,100\u001b[0m │\n",
              "├─────────────────────────────────┼────────────────────────┼───────────────┤\n",
              "│ dense_6 (\u001b[38;5;33mDense\u001b[0m)                 │ (\u001b[38;5;45mNone\u001b[0m, \u001b[38;5;34m10\u001b[0m)             │         \u001b[38;5;34m1,010\u001b[0m │\n",
              "└─────────────────────────────────┴────────────────────────┴───────────────┘\n"
            ]
          },
          "metadata": {},
          "output_type": "display_data"
        },
        {
          "data": {
            "text/html": [
              "<pre style=\"white-space:pre;overflow-x:auto;line-height:normal;font-family:Menlo,'DejaVu Sans Mono',consolas,'Courier New',monospace\"><span style=\"font-weight: bold\"> Total params: </span><span style=\"color: #00af00; text-decoration-color: #00af00\">722,006</span> (2.75 MB)\n",
              "</pre>\n"
            ],
            "text/plain": [
              "\u001b[1m Total params: \u001b[0m\u001b[38;5;34m722,006\u001b[0m (2.75 MB)\n"
            ]
          },
          "metadata": {},
          "output_type": "display_data"
        },
        {
          "data": {
            "text/html": [
              "<pre style=\"white-space:pre;overflow-x:auto;line-height:normal;font-family:Menlo,'DejaVu Sans Mono',consolas,'Courier New',monospace\"><span style=\"font-weight: bold\"> Trainable params: </span><span style=\"color: #00af00; text-decoration-color: #00af00\">722,006</span> (2.75 MB)\n",
              "</pre>\n"
            ],
            "text/plain": [
              "\u001b[1m Trainable params: \u001b[0m\u001b[38;5;34m722,006\u001b[0m (2.75 MB)\n"
            ]
          },
          "metadata": {},
          "output_type": "display_data"
        },
        {
          "data": {
            "text/html": [
              "<pre style=\"white-space:pre;overflow-x:auto;line-height:normal;font-family:Menlo,'DejaVu Sans Mono',consolas,'Courier New',monospace\"><span style=\"font-weight: bold\"> Non-trainable params: </span><span style=\"color: #00af00; text-decoration-color: #00af00\">0</span> (0.00 B)\n",
              "</pre>\n"
            ],
            "text/plain": [
              "\u001b[1m Non-trainable params: \u001b[0m\u001b[38;5;34m0\u001b[0m (0.00 B)\n"
            ]
          },
          "metadata": {},
          "output_type": "display_data"
        }
      ],
      "source": [
        "x_train = x_train.astype('float32') / 255.0\n",
        "x_test = x_test.astype('float32') / 255.0"
      ]
    },
    {
      "cell_type": "markdown",
      "metadata": {
        "id": "PGtivbQJT39U"
      },
      "source": [
        " Optimized CNN Baseline (with Data Aug, BatchNorm, LR Scheduling)"
      ]
    },
    {
      "cell_type": "code",
      "execution_count": null,
      "metadata": {},
      "outputs": [],
      "source": [
        "from tensorflow.keras.models import Sequential\n",
        "from tensorflow.keras.layers import Conv2D, MaxPooling2D, Flatten, Dense, Dropout, BatchNormalization\n",
        "from tensorflow.keras.callbacks import EarlyStopping, ReduceLROnPlateau, ModelCheckpoint\n",
        "from tensorflow.keras.optimizers import Adam\n",
        "from tensorflow.keras.preprocessing.image import ImageDataGenerator\n",
        "from tensorflow.keras.backend import clear_session\n",
        "\n",
        "# Clear session\n",
        "clear_session()\n",
        "\n",
        "# Data Augmentation\n",
        "datagen = ImageDataGenerator(\n",
        "    rotation_range=15,\n",
        "    width_shift_range=0.1,\n",
        "    height_shift_range=0.1,\n",
        "    horizontal_flip=True\n",
        ")\n",
        "datagen.fit(x_train)\n",
        "\n",
        "# CNN model\n",
        "model = Sequential([\n",
        "    Conv2D(32, (3, 3), padding='same', activation='relu', input_shape=(32, 32, 3)),\n",
        "    BatchNormalization(),\n",
        "    Conv2D(32, (3, 3), activation='relu'),\n",
        "    BatchNormalization(),\n",
        "    MaxPooling2D(),\n",
        "    Dropout(0.25),\n",
        "\n",
        "    Conv2D(64, (3, 3), padding='same', activation='relu'),\n",
        "    BatchNormalization(),\n",
        "    Conv2D(64, (3, 3), activation='relu'),\n",
        "    BatchNormalization(),\n",
        "    MaxPooling2D(),\n",
        "    Dropout(0.25),\n",
        "\n",
        "    Flatten(),\n",
        "    Dense(128, activation='relu'),\n",
        "    BatchNormalization(),\n",
        "    Dropout(0.5),\n",
        "    Dense(10, activation='softmax')\n",
        "])\n",
        "\n",
        "model.compile(optimizer=Adam(learning_rate=0.001),\n",
        "              loss='categorical_crossentropy',\n",
        "              metrics=['accuracy'])\n",
        "\n",
        "callbacks = [\n",
        "    EarlyStopping(monitor='val_loss', patience=5, restore_best_weights=True),\n",
        "    ReduceLROnPlateau(monitor='val_loss', factor=0.5, patience=3, min_lr=1e-5),\n",
        "    ModelCheckpoint('cnn_optimized_baseline.h5', monitor='val_loss', save_best_only=True)\n",
        "]\n",
        "\n",
        "model.fit(datagen.flow(x_train, y_train, batch_size=64),\n",
        "          validation_data=(x_test, y_test),\n",
        "          epochs=50,\n",
        "          callbacks=callbacks)\n"
      ]
    },
    {
      "cell_type": "markdown",
      "metadata": {},
      "source": [
        " Transfer Learning (Freeze pretrained base, train classifier)"
      ]
    },
    {
      "cell_type": "code",
      "execution_count": null,
      "metadata": {},
      "outputs": [],
      "source": [
        "from tensorflow.keras.applications import MobileNetV2\n",
        "from tensorflow.keras.models import Model\n",
        "from tensorflow.keras.layers import GlobalAveragePooling2D\n",
        "\n",
        "# Load MobileNetV2 without the top\n",
        "base_model = MobileNetV2(include_top=False, input_shape=(32, 32, 3), weights='imagenet')\n",
        "base_model.trainable = False  # Freeze\n",
        "\n",
        "# Add new classification head\n",
        "x = base_model.output\n",
        "x = GlobalAveragePooling2D()(x)\n",
        "x = Dense(128, activation='relu')(x)\n",
        "x = Dropout(0.5)(x)\n",
        "outputs = Dense(10, activation='softmax')(x)\n",
        "\n",
        "transfer_model = Model(inputs=base_model.input, outputs=outputs)\n",
        "\n",
        "transfer_model.compile(optimizer=Adam(learning_rate=0.001),\n",
        "                       loss='categorical_crossentropy',\n",
        "                       metrics=['accuracy'])\n",
        "\n",
        "callbacks = [\n",
        "    EarlyStopping(monitor='val_loss', patience=5, restore_best_weights=True),\n",
        "    ReduceLROnPlateau(monitor='val_loss', factor=0.5, patience=3, min_lr=1e-5),\n",
        "    ModelCheckpoint('mobilenet_transfer_frozen.h5', monitor='val_loss', save_best_only=True)\n",
        "]\n",
        "\n",
        "transfer_model.fit(datagen.flow(x_train, y_train, batch_size=64),\n",
        "                   validation_data=(x_test, y_test),\n",
        "                   epochs=20,\n",
        "                   callbacks=callbacks)\n"
      ]
    },
    {
      "cell_type": "code",
      "execution_count": null,
      "metadata": {},
      "outputs": [],
      "source": [
        "# from tensorflow.keras.applications import ResNet50\n",
        "# from tensorflow.keras.models import Model\n",
        "# from tensorflow.keras.layers import GlobalAveragePooling2D, Dense, Input\n",
        "\n",
        "# base_model = ResNet50(include_top=False, weights='imagenet', input_shape=(32, 32, 3))\n",
        "# x = base_model.output\n",
        "# x = GlobalAveragePooling2D()(x)\n",
        "# x = Dense(128, activation='relu')(x)\n",
        "# predictions = Dense(10, activation='softmax')(x)\n",
        "\n",
        "# model = Model(inputs=base_model.input, outputs=predictions)\n",
        "\n",
        "# # Freeze base model for transfer learning\n",
        "# for layer in base_model.layers:\n",
        "#     layer.trainable = False\n",
        "\n",
        "# model.compile(optimizer='adam', loss='categorical_crossentropy', metrics=['accuracy'])\n",
        "\n",
        "# # Train only the new top layers first\n",
        "# model.fit(x_train, y_train, validation_data=(x_test, y_test), epochs=10)\n",
        "\n",
        "# # Then unfreeze and fine-tune everything\n",
        "# for layer in model.layers:\n",
        "#     layer.trainable = True\n",
        "\n",
        "# model.compile(optimizer=Adam(1e-4), loss='categorical_crossentropy', metrics=['accuracy'])\n",
        "# model.fit(x_train, y_train, validation_data=(x_test, y_test), epochs=30)\n"
      ]
    },
    {
      "cell_type": "markdown",
      "metadata": {
        "id": "z-JQJJmH05gi"
      },
      "source": [
        "Fine-Tune Pretrained Base (Unfreeze + Low LR)"
      ]
    },
    {
      "cell_type": "code",
      "execution_count": null,
      "metadata": {},
      "outputs": [],
      "source": [
        "# Unfreeze some or all base layers\n",
        "base_model.trainable = True\n",
        "\n",
        "# Compile again with LOW learning rate\n",
        "transfer_model.compile(optimizer=Adam(learning_rate=1e-5),\n",
        "                       loss='categorical_crossentropy',\n",
        "                       metrics=['accuracy'])\n",
        "\n",
        "# Fine-tuning callbacks\n",
        "fine_tune_callbacks = [\n",
        "    EarlyStopping(monitor='val_loss', patience=5, restore_best_weights=True),\n",
        "    ReduceLROnPlateau(monitor='val_loss', factor=0.5, patience=3, min_lr=1e-6),\n",
        "    ModelCheckpoint('mobilenet_finetuned_best.h5', monitor='val_loss', save_best_only=True)\n",
        "]\n",
        "\n",
        "# Fine-tune training\n",
        "transfer_model.fit(datagen.flow(x_train, y_train, batch_size=64),\n",
        "                   validation_data=(x_test, y_test),\n",
        "                   epochs=20,\n",
        "                   callbacks=fine_tune_callbacks)\n"
      ]
    },
    {
      "cell_type": "markdown",
      "metadata": {},
      "source": [
        "Final Output:\n",
        "cnn_optimized_baseline.h5 → Your custom CNN baseline\n",
        "\n",
        "mobilenet_transfer_frozen.h5 → Transfer learning (frozen base)\n",
        "\n",
        "mobilenet_finetuned_best.h5 → Final fine-tuned model (best performance)"
      ]
    },
    {
      "cell_type": "markdown",
      "metadata": {},
      "source": [
        "Load Models and Evaluate on Test Set"
      ]
    },
    {
      "cell_type": "code",
      "execution_count": null,
      "metadata": {
        "colab": {
          "base_uri": "https://localhost:8080/"
        },
        "id": "n605HLL505gi",
        "outputId": "fe68d91f-795e-4d93-f23b-e7fb5b230517"
      },
      "outputs": [
        {
          "name": "stdout",
          "output_type": "stream",
          "text": [
            "dict_keys(['accuracy', 'loss'])\n"
          ]
        }
      ],
      "source": [
        "from tensorflow.keras.models import load_model\n",
        "\n",
        "# Load saved models\n",
        "cnn_model = load_model('cnn_optimized_baseline.h5')\n",
        "transfer_model = load_model('mobilenet_transfer_frozen.h5')\n",
        "finetuned_model = load_model('mobilenet_finetuned_best.h5')\n",
        "\n",
        "# Evaluate all models\n",
        "for name, model in zip(['CNN Baseline', 'Transfer (Frozen)', 'Fine-Tuned Transfer'],\n",
        "                       [cnn_model, transfer_model, finetuned_model]):\n",
        "    loss, acc = model.evaluate(x_test, y_test, verbose=0)\n",
        "    print(f\"{name} → Accuracy: {acc:.4f}, Loss: {loss:.4f}\")\n"
      ]
    },
    {
      "cell_type": "markdown",
      "metadata": {},
      "source": [
        " Plot Training History"
      ]
    },
    {
      "cell_type": "code",
      "execution_count": null,
      "metadata": {
        "colab": {
          "base_uri": "https://localhost:8080/",
          "height": 452
        },
        "collapsed": true,
        "id": "_4N-tR01i002",
        "outputId": "376d45fb-f3e9-4c32-fe67-ebcfbc1e1b0b"
      },
      "outputs": [
        {
          "data": {
            "image/png": "[encoded data removed]",
            "text/plain": [
              "<Figure size 640x480 with 2 Axes>"
            ]
          },
          "metadata": {},
          "output_type": "display_data"
        }
      ],
      "source": [
        "import matplotlib.pyplot as plt\n",
        "\n",
        "def plot_history(history, title='Model'):\n",
        "    plt.figure(figsize=(12, 4))\n",
        "\n",
        "    # Accuracy\n",
        "    plt.subplot(1, 2, 1)\n",
        "    plt.plot(history.history['accuracy'], label='Train Acc')\n",
        "    plt.plot(history.history['val_accuracy'], label='Val Acc')\n",
        "    plt.title(f'{title} Accuracy')\n",
        "    plt.xlabel('Epoch')\n",
        "    plt.ylabel('Accuracy')\n",
        "    plt.legend()\n",
        "\n",
        "    # Loss\n",
        "    plt.subplot(1, 2, 2)\n",
        "    plt.plot(history.history['loss'], label='Train Loss')\n",
        "    plt.plot(history.history['val_loss'], label='Val Loss')\n",
        "    plt.title(f'{title} Loss')\n",
        "    plt.xlabel('Epoch')\n",
        "    plt.ylabel('Loss')\n",
        "    plt.legend()\n",
        "\n",
        "    plt.tight_layout()\n",
        "    plt.show()\n",
        "\n",
        "# Call like:\n",
        "# plot_history(history_cnn, \"CNN Baseline\")\n",
        "# plot_history(history_transfer, \"Transfer Learning\")\n",
        "# plot_history(history_finetuned, \"Fine-Tuned\")\n"
      ]
    },
    {
      "cell_type": "markdown",
      "metadata": {},
      "source": [
        "Confusion Matrix "
      ]
    },
    {
      "cell_type": "code",
      "execution_count": null,
      "metadata": {
        "id": "CC5uXq-3kLRP"
      },
      "outputs": [],
      "source": [
        "from sklearn.metrics import confusion_matrix, ConfusionMatrixDisplay\n",
        "import numpy as np\n",
        "\n",
        "# Predict\n",
        "y_pred = np.argmax(finetuned_model.predict(x_test), axis=1)\n",
        "y_true = np.argmax(y_test, axis=1)\n",
        "\n",
        "# Plot confusion matrix\n",
        "cm = confusion_matrix(y_true, y_pred)\n",
        "disp = ConfusionMatrixDisplay(confusion_matrix=cm, display_labels=class_names)\n",
        "disp.plot(xticks_rotation='vertical', cmap='Blues')\n",
        "plt.title(\"Fine-Tuned Model Confusion Matrix\")\n",
        "plt.show()\n"
      ]
    },
    {
      "cell_type": "markdown",
      "metadata": {},
      "source": [
        "Evaluation Plan with EfficientNetB0\n",
        "1. Load EfficientNetB0 as Base\n",
        "We exclude the top layer and freeze the base.\n",
        "\n",
        "2. Add a Custom Classification Head\n",
        "For CIFAR-10 (10 classes).\n",
        "\n",
        "3. Train with Frozen Base (Feature Extraction)\n",
        "4. Unfreeze & Fine-Tune (Optional)\n",
        "5. Evaluate Accuracy on Test Set\n"
      ]
    },
    {
      "cell_type": "code",
      "execution_count": null,
      "metadata": {
        "id": "F8OSHAf5SJPr"
      },
      "outputs": [],
      "source": [
        "from tensorflow.keras.applications import EfficientNetB0\n",
        "from tensorflow.keras.models import Model\n",
        "from tensorflow.keras.layers import GlobalAveragePooling2D, Dense, Dropout, Input\n",
        "from tensorflow.keras.optimizers import Adam\n",
        "from tensorflow.keras.callbacks import EarlyStopping, ReduceLROnPlateau, ModelCheckpoint\n",
        "from tensorflow.keras.preprocessing.image import ImageDataGenerator\n",
        "\n",
        "# Resize CIFAR-10 to match EfficientNet's expected input\n",
        "from tensorflow.image import resize\n",
        "x_train_resized = resize(x_train, (224, 224))\n",
        "x_test_resized = resize(x_test, (224, 224))\n",
        "\n",
        "# Data Augmentation\n",
        "datagen = ImageDataGenerator(\n",
        "    rotation_range=15,\n",
        "    width_shift_range=0.1,\n",
        "    height_shift_range=0.1,\n",
        "    horizontal_flip=True\n",
        ")\n",
        "datagen.fit(x_train_resized)\n",
        "\n",
        "# Load base model\n",
        "base_model = EfficientNetB0(include_top=False, weights='imagenet', input_shape=(224, 224, 3))\n",
        "base_model.trainable = False  # Freeze base\n",
        "\n",
        "# Build model\n",
        "inputs = Input(shape=(224, 224, 3))\n",
        "x = base_model(inputs, training=False)\n",
        "x = GlobalAveragePooling2D()(x)\n",
        "x = Dropout(0.5)(x)\n",
        "outputs = Dense(10, activation='softmax')(x)\n",
        "model = Model(inputs, outputs)\n",
        "\n",
        "# Compile\n",
        "model.compile(optimizer=Adam(learning_rate=0.001),\n",
        "              loss='categorical_crossentropy',\n",
        "              metrics=['accuracy'])\n",
        "\n",
        "# Callbacks\n",
        "early_stop = EarlyStopping(monitor='val_loss', patience=5, restore_best_weights=True)\n",
        "lr_reduce = ReduceLROnPlateau(monitor='val_loss', factor=0.5, patience=3, min_lr=1e-5)\n",
        "checkpoint = ModelCheckpoint('efficientnetb0_best.h5', save_best_only=True)\n",
        "\n",
        "# Train\n",
        "history = model.fit(\n",
        "    datagen.flow(x_train_resized, y_train, batch_size=64),\n",
        "    validation_data=(x_test_resized, y_test),\n",
        "    epochs=30,\n",
        "    callbacks=[early_stop, lr_reduce, checkpoint]\n",
        ")\n",
        "\n",
        "# Evaluate\n",
        "loss, acc = model.evaluate(x_test_resized, y_test, verbose=0)\n",
        "print(f\"EfficientNetB0 → Accuracy: {acc:.4f}, Loss: {loss:.4f}\")\n",
        "# Your code here :"
      ]
    },
    {
      "cell_type": "markdown",
      "metadata": {},
      "source": [
        "Fine-Tuning EfficientNetB0 (Unfreeze Base Model)\n",
        "Load the trained model (best weights saved earlier)\n",
        "\n",
        "Unfreeze some or all layers of EfficientNetB0\n",
        "\n",
        "Recompile with a lower learning rate\n",
        "\n",
        "Continue training for a few more epochs"
      ]
    },
    {
      "cell_type": "code",
      "execution_count": null,
      "metadata": {
        "id": "DObaoxhaSMUg"
      },
      "outputs": [],
      "source": [
        "from tensorflow.keras.models import load_model\n",
        "from tensorflow.keras.optimizers import Adam\n",
        "\n",
        "# Load best model from previous training\n",
        "model = load_model('efficientnetb0_best.h5')\n",
        "\n",
        "# Unfreeze the base model\n",
        "model.layers[1].trainable = True  # model.layers[1] is base_model inside your functional model\n",
        "\n",
        "# Recompile with a very low learning rate\n",
        "model.compile(optimizer=Adam(learning_rate=1e-5),\n",
        "              loss='categorical_crossentropy',\n",
        "              metrics=['accuracy'])\n",
        "\n",
        "# Optional: Print how many layers are now trainable\n",
        "print(f\"Trainable layers: {len([l for l in model.layers if l.trainable])} / {len(model.layers)}\")\n",
        "\n",
        "# Continue training\n",
        "fine_tune_history = model.fit(\n",
        "    datagen.flow(x_train_resized, y_train, batch_size=64),\n",
        "    validation_data=(x_test_resized, y_test),\n",
        "    epochs=10,\n",
        "    callbacks=[early_stop, lr_reduce, checkpoint]\n",
        ")\n",
        "\n",
        "# Final evaluation\n",
        "final_loss, final_acc = model.evaluate(x_test_resized, y_test, verbose=0)\n",
        "print(f\"Fine-Tuned EfficientNetB0 → Accuracy: {final_acc:.4f}, Loss: {final_loss:.4f}\")\n"
      ]
    },
    {
      "cell_type": "markdown",
      "metadata": {},
      "source": [
        "Transfer Learning with ResNet50\n",
        "Load ResNet50 with pretrained weights.\n",
        "\n",
        "Freeze the base model layers.\n",
        "\n",
        "Add a custom classification head.\n",
        "\n",
        "Compile and train for feature extraction.\n",
        "\n",
        "Fine-tune by unfreezing some layers and continuing training.\n",
        "\n"
      ]
    },
    {
      "cell_type": "code",
      "execution_count": null,
      "metadata": {},
      "outputs": [],
      "source": [
        "from tensorflow.keras.applications import ResNet50\n",
        "from tensorflow.keras.models import Model\n",
        "from tensorflow.keras.layers import GlobalAveragePooling2D, Dense, Dropout, Input\n",
        "from tensorflow.keras.optimizers import Adam\n",
        "from tensorflow.keras.callbacks import EarlyStopping, ReduceLROnPlateau, ModelCheckpoint\n",
        "from tensorflow.keras.preprocessing.image import ImageDataGenerator\n",
        "\n",
        "# Resize CIFAR-10 to match ResNet's input size\n",
        "x_train_resized = resize(x_train, (224, 224))\n",
        "x_test_resized = resize(x_test, (224, 224))\n",
        "\n",
        "# Data Augmentation\n",
        "datagen = ImageDataGenerator(\n",
        "    rotation_range=15,\n",
        "    width_shift_range=0.1,\n",
        "    height_shift_range=0.1,\n",
        "    horizontal_flip=True\n",
        ")\n",
        "datagen.fit(x_train_resized)\n",
        "\n",
        "# Load base model\n",
        "base_model_resnet = ResNet50(include_top=False, weights='imagenet', input_shape=(224, 224, 3))\n",
        "base_model_resnet.trainable = False  # Freeze base\n",
        "\n",
        "# Build model\n",
        "inputs = Input(shape=(224, 224, 3))\n",
        "x = base_model_resnet(inputs, training=False)\n",
        "x = GlobalAveragePooling2D()(x)\n",
        "x = Dropout(0.5)(x)\n",
        "outputs = Dense(10, activation='softmax')(x)\n",
        "model_resnet = Model(inputs, outputs)\n",
        "\n",
        "# Compile model\n",
        "model_resnet.compile(optimizer=Adam(learning_rate=0.001),\n",
        "                     loss='categorical_crossentropy',\n",
        "                     metrics=['accuracy'])\n",
        "\n",
        "# Callbacks\n",
        "early_stop = EarlyStopping(monitor='val_loss', patience=5, restore_best_weights=True)\n",
        "lr_reduce = ReduceLROnPlateau(monitor='val_loss', factor=0.5, patience=3, min_lr=1e-5)\n",
        "checkpoint = ModelCheckpoint('resnet50_best.h5', save_best_only=True)\n",
        "\n",
        "# Train model\n",
        "history_resnet = model_resnet.fit(\n",
        "    datagen.flow(x_train_resized, y_train, batch_size=64),\n",
        "    validation_data=(x_test_resized, y_test),\n",
        "    epochs=30,\n",
        "    callbacks=[early_stop, lr_reduce, checkpoint]\n",
        ")\n",
        "\n",
        "# Evaluate model\n",
        "loss_resnet, acc_resnet = model_resnet.evaluate(x_test_resized, y_test, verbose=0)\n",
        "print(f\"ResNet50 → Accuracy: {acc_resnet:.4f}, Loss: {loss_resnet:.4f}\")\n"
      ]
    },
    {
      "cell_type": "markdown",
      "metadata": {},
      "source": [
        "Transfer Learning with VGG16\n",
        "Steps:\n",
        "Load VGG16 with pretrained weights.\n",
        "\n",
        "Freeze base model layers.\n",
        "\n",
        "Add a custom classification head.\n",
        "\n",
        "Compile and train for feature extraction.\n",
        "\n",
        "Fine-tune by unfreezing layers."
      ]
    },
    {
      "cell_type": "code",
      "execution_count": null,
      "metadata": {
        "id": "L4WX3_uLSN5I"
      },
      "outputs": [],
      "source": [
        "from tensorflow.keras.applications import VGG16\n",
        "from tensorflow.keras.models import Model\n",
        "from tensorflow.keras.layers import Flatten, Dense, Dropout, Input\n",
        "from tensorflow.keras.optimizers import Adam\n",
        "from tensorflow.keras.callbacks import EarlyStopping, ReduceLROnPlateau, ModelCheckpoint\n",
        "from tensorflow.keras.preprocessing.image import ImageDataGenerator\n",
        "\n",
        "# Resize CIFAR-10 to match VGG16's input size\n",
        "x_train_resized = resize(x_train, (224, 224))\n",
        "x_test_resized = resize(x_test, (224, 224))\n",
        "\n",
        "# Data Augmentation\n",
        "datagen = ImageDataGenerator(\n",
        "    rotation_range=15,\n",
        "    width_shift_range=0.1,\n",
        "    height_shift_range=0.1,\n",
        "    horizontal_flip=True\n",
        ")\n",
        "datagen.fit(x_train_resized)\n",
        "\n",
        "# Load base model\n",
        "base_model_vgg = VGG16(include_top=False, weights='imagenet', input_shape=(224, 224, 3))\n",
        "base_model_vgg.trainable = False  # Freeze base\n",
        "\n",
        "# Build model\n",
        "inputs = Input(shape=(224, 224, 3))\n",
        "x = base_model_vgg(inputs, training=False)\n",
        "x = Flatten()(x)\n",
        "x = Dropout(0.5)(x)\n",
        "outputs = Dense(10, activation='softmax')(x)\n",
        "model_vgg = Model(inputs, outputs)\n",
        "\n",
        "# Compile model\n",
        "model_vgg.compile(optimizer=Adam(learning_rate=0.001),\n",
        "                  loss='categorical_crossentropy',\n",
        "                  metrics=['accuracy'])\n",
        "\n",
        "# Callbacks\n",
        "early_stop = EarlyStopping(monitor='val_loss', patience=5, restore_best_weights=True)\n",
        "lr_reduce = ReduceLROnPlateau(monitor='val_loss', factor=0.5, patience=3, min_lr=1e-5)\n",
        "checkpoint = ModelCheckpoint('vgg16_best.h5', save_best_only=True)\n",
        "\n",
        "# Train model\n",
        "history_vgg = model_vgg.fit(\n",
        "    datagen.flow(x_train_resized, y_train, batch_size=64),\n",
        "    validation_data=(x_test_resized, y_test),\n",
        "    epochs=30,\n",
        "    callbacks=[early_stop, lr_reduce, checkpoint]\n",
        ")\n",
        "\n",
        "# Evaluate model\n",
        "loss_vgg, acc_vgg = model_vgg.evaluate(x_test_resized, y_test, verbose=0)\n",
        "print(f\"VGG16 → Accuracy: {acc_vgg:.4f}, Loss: {loss_vgg:.4f}\")\n"
      ]
    },
    {
      "cell_type": "markdown",
      "metadata": {},
      "source": [
        "Plot Accuracy & Loss Curves"
      ]
    },
    {
      "cell_type": "code",
      "execution_count": null,
      "metadata": {},
      "outputs": [],
      "source": [
        "import matplotlib.pyplot as plt\n",
        "\n",
        "# Plot accuracy comparison\n",
        "plt.figure(figsize=(12, 6))\n",
        "plt.plot(history_efficientnet.history['accuracy'], label='EfficientNetB0 - Train Accuracy')\n",
        "plt.plot(history_resnet.history['accuracy'], label='ResNet50 - Train Accuracy')\n",
        "plt.plot(history_vgg.history['accuracy'], label='VGG16 - Train Accuracy')\n",
        "plt.plot(history_efficientnet.history['val_accuracy'], label='EfficientNetB0 - Val Accuracy')\n",
        "plt.plot(history_resnet.history['val_accuracy'], label='ResNet50 - Val Accuracy')\n",
        "plt.plot(history_vgg.history['val_accuracy'], label='VGG16 - Val Accuracy')\n",
        "plt.title('Model Accuracy Comparison')\n",
        "plt.xlabel('Epochs')\n",
        "plt.ylabel('Accuracy')\n",
        "plt.legend()\n",
        "plt.grid(True)\n",
        "plt.show()\n",
        "\n",
        "# Plot loss comparison\n",
        "plt.figure(figsize=(12, 6))\n",
        "plt.plot(history_efficientnet.history['loss'], label='EfficientNetB0 - Train Loss')\n",
        "plt.plot(history_resnet.history['loss'], label='ResNet50 - Train Loss')\n",
        "plt.plot(history_vgg.history['loss'], label='VGG16 - Train Loss')\n",
        "plt.plot(history_efficientnet.history['val_loss'], label='EfficientNetB0 - Val Loss')\n",
        "plt.plot(history_resnet.history['val_loss'], label='ResNet50 - Val Loss')\n",
        "plt.plot(history_vgg.history['val_loss'], label='VGG16 - Val Loss')\n",
        "plt.title('Model Loss Comparison')\n",
        "plt.xlabel('Epochs')\n",
        "plt.ylabel('Loss')\n",
        "plt.legend()\n",
        "plt.grid(True)\n",
        "plt.show()\n"
      ]
    },
    {
      "cell_type": "markdown",
      "metadata": {},
      "source": [
        "Confusion Matrix"
      ]
    },
    {
      "cell_type": "code",
      "execution_count": null,
      "metadata": {},
      "outputs": [],
      "source": [
        "from sklearn.metrics import confusion_matrix\n",
        "import seaborn as sns\n",
        "import numpy as np\n",
        "import tensorflow as tf\n",
        "\n",
        "# Function to plot confusion matrix\n",
        "def plot_confusion_matrix(cm, class_names, model_name):\n",
        "    plt.figure(figsize=(10, 7))\n",
        "    sns.heatmap(cm, annot=True, fmt='d', cmap='Blues', xticklabels=class_names, yticklabels=class_names)\n",
        "    plt.title(f'Confusion Matrix - {model_name}')\n",
        "    plt.xlabel('Predicted Label')\n",
        "    plt.ylabel('True Label')\n",
        "    plt.show()\n",
        "\n",
        "# Get the model predictions (for each model)\n",
        "y_pred_efficientnet = model_efficientnet.predict(x_test_resized)\n",
        "y_pred_resnet = model_resnet.predict(x_test_resized)\n",
        "y_pred_vgg = model_vgg.predict(x_test_resized)\n",
        "\n",
        "# Convert predictions to class labels\n",
        "y_pred_efficientnet = np.argmax(y_pred_efficientnet, axis=1)\n",
        "y_pred_resnet = np.argmax(y_pred_resnet, axis=1)\n",
        "y_pred_vgg = np.argmax(y_pred_vgg, axis=1)\n",
        "\n",
        "# Get the true labels\n",
        "y_true = np.argmax(y_test, axis=1)\n",
        "\n",
        "# Compute confusion matrices\n",
        "cm_efficientnet = confusion_matrix(y_true, y_pred_efficientnet)\n",
        "cm_resnet = confusion_matrix(y_true, y_pred_resnet)\n",
        "cm_vgg = confusion_matrix(y_true, y_pred_vgg)\n",
        "\n",
        "# Plot confusion matrices\n",
        "class_names = ['airplane', 'automobile', 'bird', 'cat', 'deer',\n",
        "               'dog', 'frog', 'horse', 'ship', 'truck']\n",
        "\n",
        "# Plot confusion matrices for each model\n",
        "plot_confusion_matrix(cm_efficientnet, class_names, 'EfficientNetB0')\n",
        "plot_confusion_matrix(cm_resnet, class_names, 'ResNet50')\n",
        "plot_confusion_matrix(cm_vgg, class_names, 'VGG16')\n"
      ]
    },
    {
      "cell_type": "markdown",
      "metadata": {},
      "source": [
        "📊 Analysis\n",
        "Accuracy vs Loss:\n",
        "\n",
        "Which model reaches higher accuracy and lower loss?\n",
        "\n",
        "Are there any clear signs of overfitting in any of the models?\n",
        "\n",
        "Confusion Matrix:\n",
        "\n",
        "Which classes do the models classify well and which they struggle with?\n",
        "\n",
        "Are there any specific classes that are confused with others across models?"
      ]
    },
    {
      "cell_type": "code",
      "execution_count": null,
      "metadata": {
        "id": "zm35siILFNT0"
      },
      "outputs": [],
      "source": [
        "from keras.backend import clear_session\n",
        "clear_session()"
      ]
    },
    {
      "cell_type": "code",
      "execution_count": null,
      "metadata": {
        "id": "oH4lDVBuVA_Q"
      },
      "outputs": [],
      "source": [
        "# Your code here :"
      ]
    },
    {
      "cell_type": "code",
      "execution_count": null,
      "metadata": {
        "id": "4elnDWnjEbmO"
      },
      "outputs": [],
      "source": [
        "# Your code here :"
      ]
    }
  ],
  "metadata": {
    "colab": {
      "provenance": [],
      "toc_visible": true
    },
    "kernelspec": {
      "display_name": "Python 3",
      "name": "python3"
    },
    "language_info": {
      "codemirror_mode": {
        "name": "ipython",
        "version": 3
      },
      "file_extension": ".py",
      "mimetype": "text/x-python",
      "name": "python",
      "nbconvert_exporter": "python",
      "pygments_lexer": "ipython3",
      "version": "3.11.9"
    }
  },
  "nbformat": 4,
  "nbformat_minor": 0
}
